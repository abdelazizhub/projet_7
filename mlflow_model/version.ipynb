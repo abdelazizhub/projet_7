import pickle

# Charger le modèle
with open("mlflow_model/model.pkl", "rb") as f:
    model = pickle.load(f)

# Vérifier la version de scikit-learn utilisée lors de l'entraînement
if hasattr(model, "__getstate__"):
    state = model.__getstate__()
    if "_sklearn_version" in state:
        print(f"Le modèle a été entraîné avec scikit-learn version : {state['_sklearn_version']}")
    else:
        print("Impossible de détecter la version de scikit-learn.")
else:
    print("Le modèle ne contient pas d'information sur la version de scikit-learn.")